{
  "nbformat": 4,
  "nbformat_minor": 0,
  "metadata": {
    "colab": {
      "provenance": [],
      "toc_visible": true
    },
    "kernelspec": {
      "name": "python3",
      "display_name": "Python 3"
    }
  },
  "cells": [
    {
      "cell_type": "markdown",
      "source": [
        "## Select a publication from the [Data Registry](https://data.open-contracting.org/) and its field list"
      ],
      "metadata": {
        "id": "vpPltvi1tjEs"
      }
    },
    {
      "cell_type": "code",
      "execution_count": null,
      "metadata": {
        "id": "CLc-_oJntg93"
      },
      "outputs": [],
      "source": [
        "# @title Select the publication to download { display-mode: \"form\" }\n",
        "\n",
        "publication_select_box = get_publication_select_box()\n",
        "\n",
        "publication_select_box"
      ]
    },
    {
      "cell_type": "code",
      "execution_count": null,
      "outputs": [],
      "source": [
        "# @title Extract the list of available fields { display-mode: \"form\" }\n",
        "\n",
        "fields_table = format_coverage(selected_publication.get(\"coverage\", {}))"
      ],
      "metadata": {
        "collapsed": false
      }
    }
  ]
}
