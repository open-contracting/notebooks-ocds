{
  "cells": [
    {
      "cell_type": "markdown",
      "metadata": {
        "id": "tnSzwOTTRbgE"
      },
      "source": [
        "## Calculate general statistics"
      ]
    },
    {
      "cell_type": "markdown",
      "metadata": {
        "id": "rjpK7uocUeW4"
      },
      "source": [
        "Use this section to have an overview of the dataset in terms of fields published, stages covered and key summary statistics.  You can add any additional queries as needed.  "
      ]
    },
    {
      "cell_type": "markdown",
      "metadata": {
        "id": "7VRH7RmPRfBD"
      },
      "source": [
        "###Fields published"
      ]
    },
    {
      "cell_type": "markdown",
      "metadata": {
        "id": "uVaXeoF7U6bV"
      },
      "source": [
        "Calculate the fields published"
      ]
    },
    {
      "cell_type": "code",
      "execution_count": null,
      "metadata": {
        "id": "6KgBNO1QUuL4"
      },
      "outputs": [],
      "source": [
        "%%sql fields_table <<\n",
        "SELECT\n",
        "    path,\n",
        "    distinct_releases\n",
        "FROM\n",
        "    field_counts\n",
        "WHERE\n",
        "    release_type = 'compiled_release'\n"
      ]
    },
    {
      "cell_type": "code",
      "execution_count": null,
      "metadata": {
        "id": "J7Eieoo9U8Ku"
      },
      "outputs": [],
      "source": [
        "fields_table"
      ]
    },
    {
      "cell_type": "markdown",
      "metadata": {
        "id": "Z-KSlo8Vb69M"
      },
      "source": [
        "Save fields table in spreadsheet:"
      ]
    },
    {
      "cell_type": "code",
      "execution_count": null,
      "metadata": {
        "id": "9CaaBbFLb6dl"
      },
      "outputs": [],
      "source": [
        "spreadsheet_name = input(\"Enter the name of your spreadsheet:\")\n",
        "save_dataframe_to_sheet(spreadsheet_name, fields_table, \"fields\")"
      ]
    },
    {
      "cell_type": "markdown",
      "metadata": {
        "id": "shGR-DXCcDkx"
      },
      "source": [
        "### Stages covered"
      ]
    },
    {
      "cell_type": "code",
      "execution_count": null,
      "metadata": {
        "id": "APMabfEPcPui"
      },
      "outputs": [],
      "source": [
        "%%sql stages <<\n",
        "WITH field_counts AS (\n",
        "    SELECT *\n",
        "    FROM\n",
        "        field_counts\n",
        "    WHERE\n",
        "        release_type = 'compiled_release'\n",
        "        AND path IN (\n",
        "            'planning',\n",
        "            'tender',\n",
        "            'awards',\n",
        "            'contracts',\n",
        "            'contracts/implementation'\n",
        "        )\n",
        ")\n",
        "\n",
        "SELECT\n",
        "    CASE\n",
        "        WHEN paths.path = 'contracts/implementation'\n",
        "            THEN\n",
        "                'implementation'\n",
        "        ELSE\n",
        "            paths.path\n",
        "    END AS stage,\n",
        "    CASE\n",
        "        WHEN\n",
        "            paths.path IN ('planning', 'tender', 'contracts/implementation')\n",
        "            THEN\n",
        "                greatest(field_counts.object_property, 0)\n",
        "        ELSE\n",
        "            greatest(field_counts.array_count, 0)\n",
        "    END AS object_count\n",
        "FROM (\n",
        "    SELECT\n",
        "        unnest(\n",
        "            ARRAY[\n",
        "                'planning',\n",
        "                'tender',\n",
        "                'awards',\n",
        "                'contracts',\n",
        "                'contracts/implementation'\n",
        "            ]\n",
        "        ) AS path\n",
        ") AS paths\n",
        "LEFT JOIN field_counts USING (path)\n"
      ]
    },
    {
      "cell_type": "code",
      "execution_count": null,
      "metadata": {
        "id": "f40SbJg0cbvp"
      },
      "outputs": [],
      "source": [
        "stages"
      ]
    },
    {
      "cell_type": "code",
      "execution_count": null,
      "metadata": {
        "id": "zGNrN_occdW5"
      },
      "outputs": [],
      "source": [
        "plot_objects_per_stage(stages)"
      ]
    },
    {
      "cell_type": "markdown",
      "metadata": {
        "id": "TbpO9Jc6c6wQ"
      },
      "source": [
        "### Number of tenders and awards by date"
      ]
    },
    {
      "cell_type": "code",
      "execution_count": null,
      "metadata": {
        "id": "twYK088Dc79V"
      },
      "outputs": [],
      "source": [
        "%%sql dates <<\n",
        "WITH tenders AS (\n",
        "    SELECT\n",
        "        extract(YEAR FROM tenderperiod_startdate) AS year,\n",
        "        count(*) AS tenders\n",
        "    FROM\n",
        "        tender_summary\n",
        "    WHERE\n",
        "        release_type = 'compiled_release'\n",
        "        AND tenderperiod_startdate IS NOT NULL\n",
        "    GROUP BY\n",
        "        year\n",
        "    ORDER BY\n",
        "        year\n",
        "),\n",
        "\n",
        "awards AS (\n",
        "    SELECT\n",
        "        extract(YEAR FROM date) AS year,\n",
        "        count(*) AS awards\n",
        "    FROM\n",
        "        awards_summary\n",
        "    WHERE\n",
        "        release_type = 'compiled_release'\n",
        "        AND date IS NOT NULL\n",
        "    GROUP BY\n",
        "        year\n",
        "    ORDER BY\n",
        "        year\n",
        ")\n",
        "\n",
        "SELECT\n",
        "    t.year::integer,\n",
        "    tenders,\n",
        "    awards\n",
        "FROM\n",
        "    tenders AS t\n",
        "FULL JOIN awards AS a ON t.year = a.year\n"
      ]
    },
    {
      "cell_type": "code",
      "execution_count": null,
      "metadata": {
        "id": "cPEHTK67Mp6P"
      },
      "outputs": [],
      "source": [
        "dates"
      ]
    },
    {
      "cell_type": "code",
      "execution_count": null,
      "metadata": {
        "id": "ZFUPPW51dF4m"
      },
      "outputs": [],
      "source": [
        "plot_objects_per_year(dates)"
      ]
    },
    {
      "cell_type": "markdown",
      "metadata": {
        "id": "g5n8QT44dKT1"
      },
      "source": [
        "### Procurement methods used"
      ]
    },
    {
      "cell_type": "code",
      "execution_count": null,
      "metadata": {
        "id": "zybYaAktdPeq"
      },
      "outputs": [],
      "source": [
        "%%sql\n",
        "SELECT\n",
        "    procurementmethod,\n",
        "    count(DISTINCT ocid),\n",
        "    round((count(*) * 100.0 / sum(count(*)) OVER ()), 1) AS proportion\n",
        "FROM\n",
        "    tender_summary\n",
        "WHERE\n",
        "    release_type = 'compiled_release'\n",
        "GROUP BY\n",
        "    procurementmethod\n",
        "ORDER BY\n",
        "    proportion DESC\n"
      ]
    },
    {
      "cell_type": "code",
      "execution_count": null,
      "metadata": {
        "id": "9nGLJhu9dgyU"
      },
      "outputs": [],
      "source": [
        "%%sql\n",
        "SELECT\n",
        "    tender ->> 'procurementMethodDetails' AS method,\n",
        "    count(DISTINCT ocid),\n",
        "    round((count(*) * 100.0 / sum(count(*)) OVER ()), 1) AS proportion\n",
        "FROM\n",
        "    tender_summary\n",
        "WHERE\n",
        "    release_type = 'compiled_release'\n",
        "GROUP BY\n",
        "    method\n",
        "ORDER BY\n",
        "    proportion DESC\n"
      ]
    },
    {
      "cell_type": "markdown",
      "metadata": {
        "id": "_QlQDgw1hzdL"
      },
      "source": [
        "### Number of procedures by buyer"
      ]
    },
    {
      "cell_type": "code",
      "execution_count": null,
      "metadata": {
        "id": "3V7AjxJXh17K"
      },
      "outputs": [],
      "source": [
        "%%sql buyers <<\n",
        "SELECT\n",
        "    identifier AS party_id,\n",
        "    party -> 'name' AS name,\n",
        "    count(DISTINCT ocid) AS total_tenders\n",
        "FROM\n",
        "    parties_summary\n",
        "WHERE\n",
        "    roles::text ILIKE '%%buyer%%'\n",
        "    AND release_type = 'compiled_release'\n",
        "GROUP BY\n",
        "    identifier,\n",
        "    party -> 'name'\n",
        "ORDER BY\n",
        "    total_tenders DESC\n"
      ]
    },
    {
      "cell_type": "code",
      "execution_count": null,
      "metadata": {
        "id": "u-fpK7O-iEya"
      },
      "outputs": [],
      "source": [
        "buyers.head(10)"
      ]
    },
    {
      "cell_type": "code",
      "execution_count": null,
      "metadata": {
        "id": "KmgHVCXaiCeG"
      },
      "outputs": [],
      "source": [
        "plot_top_buyers(buyers.head(10))"
      ]
    }
  ],
  "metadata": {
    "colab": {
      "provenance": [],
      "toc_visible": true
    },
    "kernelspec": {
      "display_name": "Python 3",
      "name": "python3"
    }
  },
  "nbformat": 4,
  "nbformat_minor": 0
}
