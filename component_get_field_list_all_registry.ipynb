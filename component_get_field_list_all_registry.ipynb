{
  "cells": [
    {
      "cell_type": "markdown",
      "metadata": {
        "collapsed": false,
        "id": "3jczq4NpF5ve"
      },
      "source": [
        "## Get the fields used by all OCDS publications in the Registry\n",
        "\n",
        "Use this notebook to get the list of the fields implemented by all the publishers in the Data Registry, for example, to check what publishers are publishing specific fields."
      ]
    },
    {
      "cell_type": "markdown",
      "metadata": {
        "collapsed": false,
        "id": "26DoeTC0F5vi"
      },
      "source": [
        "### Aggegate the lists of fields across all publications"
      ]
    },
    {
      "cell_type": "code",
      "execution_count": null,
      "metadata": {
        "id": "nHb1tXwVF5vi"
      },
      "outputs": [],
      "source": [
        "final_dataset = pd.DataFrame()\n",
        "\n",
        "for publication in get_publications():\n",
        "      data = (\n",
        "          pd.DataFrame.from_dict(publication.get(\"coverage\", {}), orient=\"index\", columns=[\"count\"])\n",
        "          .reset_index()\n",
        "          .rename(columns={\"index\": \"path\"})\n",
        "      )\n",
        "      data[\"publisher\"] = publisher\n",
        "      final_dataset = pd.concat([final_dataset, data])"
      ]
    },
    {
      "cell_type": "code",
      "execution_count": null,
      "metadata": {
        "id": "D9g6eiVvF5vi"
      },
      "outputs": [],
      "source": [
        "final_dataset"
      ]
    },
    {
      "cell_type": "markdown",
      "metadata": {
        "collapsed": false,
        "id": "tDSPxtaHF5vi"
      },
      "source": [
        "Export the results as CSV"
      ]
    },
    {
      "cell_type": "code",
      "execution_count": null,
      "metadata": {
        "id": "dZpcdjwlF5vj"
      },
      "outputs": [],
      "source": [
        "final_dataset.to_csv(\"ocds_fields_from_all_publishers.csv\", index=False)"
      ]
    }
  ],
  "metadata": {
    "kernelspec": {
      "display_name": "Python 3",
      "language": "python",
      "name": "python3"
    },
    "language_info": {
      "codemirror_mode": {
        "name": "ipython",
        "version": 2
      },
      "file_extension": ".py",
      "mimetype": "text/x-python",
      "name": "python",
      "nbconvert_exporter": "python",
      "pygments_lexer": "ipython2",
      "version": "2.7.6"
    },
    "colab": {
      "provenance": []
    }
  },
  "nbformat": 4,
  "nbformat_minor": 0
}